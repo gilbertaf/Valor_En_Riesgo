{
 "cells": [
  {
   "cell_type": "markdown",
   "metadata": {},
   "source": [
    "# VaR\n",
    "\n",
    "En matemáticas financieras y gestión del riesgo financiero, el valor en riesgo (abreviado VaR a partir de su expresión en inglés, Value at Risk) es una medida de riesgo ampliamente utilizada del riesgo de mercado en una cartera de inversiones de activos financieros.\n",
    "\n",
    "Para un portafolio, un horizonte de tiempo y una probabilidad *p* dados, el *p*-VaR puede ser definido informalmente como la máxima pérdida posible durante un tiempo después de excluir todos los peores resultados cuya probabilidad es a lo más *p* (asumiendo mercados normales y que no se produce negociación en el portafolio).\n",
    "\n",
    "Por ejemplo, si un portafolio de acciones tiene un VaR a un día del *5%* sobre 1 millón, existe una probabilidad del 0.05 de que el portafolio caiga en valor por más de $1 millón en un período de un día si no existe trading. Informalmente, una pérdida de 1 millón o más en esta cartera se espera que sea de 1 día entre 20. Una pérdida que excede el umbral del VaR se denomina “VaR break.”\n",
    "\n",
    "El VaR tiene cinco usos principales en finanzas: gestión del riesgo, medida del riesgo, control financiero, reporte financiero y cálculo del capital regulatorio. El VaR se utiliza en ocasiones en aplicaciones no financieras también.\n",
    "\n",
    "**El VaR tiene 3 ingredientes principales:**\n",
    "\n",
    "1. Una desviación estándar que define los niveles de perdidas.\n",
    "2. Un tiempo fijo por el cual se evalua el riesgo\n",
    "3. Intervalos de confianza\n",
    "\n",
    "**El VaR se puede medir de tres diferentes maneras:**\n",
    "\n",
    "- Varianza-Covarianza\n",
    "- Simulación histórica\n",
    "- Monte Carlo"
   ]
  },
  {
   "cell_type": "code",
   "execution_count": 1,
   "metadata": {},
   "outputs": [],
   "source": [
    "import pandas as pd\n",
    "import numpy as np\n",
    "import matplotlib.pyplot as plt\n",
    "from scipy.stats import norm\n",
    "import warnings\n",
    "warnings.filterwarnings('ignore')"
   ]
  },
  {
   "cell_type": "markdown",
   "metadata": {},
   "source": [
    "**Ilustración Value at Risk**\n",
    "\n",
    "Asumiendo un portafolio con media 0 y desviacion estándar 1 y siendo pdf una función de densidad de probabilidad, tenemos..."
   ]
  },
  {
   "cell_type": "code",
   "execution_count": 2,
   "metadata": {},
   "outputs": [
    {
     "data": {
      "image/png": "[encoded data removed]",
      "text/plain": [
       "<Figure size 432x288 with 1 Axes>"
      ]
     },
     "metadata": {
      "needs_background": "light"
     },
     "output_type": "display_data"
    }
   ],
   "source": [
    "#Media\n",
    "media = 0\n",
    "\n",
    "#desviación\n",
    "desviacion = 1\n",
    "\n",
    "#Genera valores de x distribuidos de manera uniformes desde -5 a 5\n",
    "x = np.arange(-5, 5, 0.01)\n",
    "\n",
    "#Genera la funcion de densidad de probabilidad para los valores de x con media 0 y desviacion 1\n",
    "y = norm.pdf(x, media, desviacion)\n",
    "\n",
    "#graficos la funcion de densidad de probabilidad para x y y\n",
    "pdf = plt.plot(x, y)\n",
    "\n",
    "#limitamos \n",
    "min_ylim, max_ylim = plt.ylim()\n",
    "\n",
    "plt.text(np.percentile(x, 5), max_ylim * 0.9, '95%:${:.4f}'.format(np.percentile(x, 5)))\n",
    "\n",
    "plt.axvline(np.percentile(x, 5), color='r', linestyle='dashed', linewidth=4)\n",
    "\n",
    "plt.title('Ilustración del Valor en Riesgo')\n",
    "\n",
    "plt.show()"
   ]
  },
  {
   "cell_type": "markdown",
   "metadata": {},
   "source": [
    "# Metodo Varianza-Covarianza"
   ]
  },
  {
   "cell_type": "code",
   "execution_count": 3,
   "metadata": {},
   "outputs": [],
   "source": [
    "stocks = pd.read_excel('acciones.xlsx')"
   ]
  },
  {
   "cell_type": "code",
   "execution_count": 4,
   "metadata": {},
   "outputs": [
    {
     "data": {
      "text/html": [
       "<div>\n",
       "<style scoped>\n",
       "    .dataframe tbody tr th:only-of-type {\n",
       "        vertical-align: middle;\n",
       "    }\n",
       "\n",
       "    .dataframe tbody tr th {\n",
       "        vertical-align: top;\n",
       "    }\n",
       "\n",
       "    .dataframe thead th {\n",
       "        text-align: right;\n",
       "    }\n",
       "</style>\n",
       "<table border=\"1\" class=\"dataframe\">\n",
       "  <thead>\n",
       "    <tr style=\"text-align: right;\">\n",
       "      <th></th>\n",
       "      <th>Date</th>\n",
       "      <th>IBM</th>\n",
       "      <th>INTEL</th>\n",
       "      <th>MSFT</th>\n",
       "    </tr>\n",
       "  </thead>\n",
       "  <tbody>\n",
       "    <tr>\n",
       "      <th>0</th>\n",
       "      <td>2021-10-13</td>\n",
       "      <td>134.569794</td>\n",
       "      <td>52.259998</td>\n",
       "      <td>296.309998</td>\n",
       "    </tr>\n",
       "    <tr>\n",
       "      <th>1</th>\n",
       "      <td>2021-10-14</td>\n",
       "      <td>137.084137</td>\n",
       "      <td>53.900002</td>\n",
       "      <td>302.750000</td>\n",
       "    </tr>\n",
       "    <tr>\n",
       "      <th>2</th>\n",
       "      <td>2021-10-15</td>\n",
       "      <td>138.250473</td>\n",
       "      <td>54.459999</td>\n",
       "      <td>304.209991</td>\n",
       "    </tr>\n",
       "    <tr>\n",
       "      <th>3</th>\n",
       "      <td>2021-10-18</td>\n",
       "      <td>136.061188</td>\n",
       "      <td>54.470001</td>\n",
       "      <td>307.290009</td>\n",
       "    </tr>\n",
       "    <tr>\n",
       "      <th>4</th>\n",
       "      <td>2021-10-19</td>\n",
       "      <td>135.736145</td>\n",
       "      <td>55.209999</td>\n",
       "      <td>308.230011</td>\n",
       "    </tr>\n",
       "  </tbody>\n",
       "</table>\n",
       "</div>"
      ],
      "text/plain": [
       "        Date         IBM      INTEL        MSFT\n",
       "0 2021-10-13  134.569794  52.259998  296.309998\n",
       "1 2021-10-14  137.084137  53.900002  302.750000\n",
       "2 2021-10-15  138.250473  54.459999  304.209991\n",
       "3 2021-10-18  136.061188  54.470001  307.290009\n",
       "4 2021-10-19  135.736145  55.209999  308.230011"
      ]
     },
     "execution_count": 4,
     "metadata": {},
     "output_type": "execute_result"
    }
   ],
   "source": [
    "stocks.head()"
   ]
  },
  {
   "cell_type": "code",
   "execution_count": 5,
   "metadata": {},
   "outputs": [
    {
     "name": "stdout",
     "output_type": "stream",
     "text": [
      "<class 'pandas.core.frame.DataFrame'>\n",
      "RangeIndex: 253 entries, 0 to 252\n",
      "Data columns (total 4 columns):\n",
      " #   Column  Non-Null Count  Dtype         \n",
      "---  ------  --------------  -----         \n",
      " 0   Date    253 non-null    datetime64[ns]\n",
      " 1   IBM     253 non-null    float64       \n",
      " 2   INTEL   253 non-null    float64       \n",
      " 3   MSFT    253 non-null    float64       \n",
      "dtypes: datetime64[ns](1), float64(3)\n",
      "memory usage: 8.0 KB\n"
     ]
    }
   ],
   "source": [
    "stocks.info()"
   ]
  },
  {
   "cell_type": "code",
   "execution_count": 6,
   "metadata": {},
   "outputs": [],
   "source": [
    "stocks.set_index('Date', inplace=True)"
   ]
  },
  {
   "cell_type": "code",
   "execution_count": 7,
   "metadata": {},
   "outputs": [
    {
     "data": {
      "text/html": [
       "<div>\n",
       "<style scoped>\n",
       "    .dataframe tbody tr th:only-of-type {\n",
       "        vertical-align: middle;\n",
       "    }\n",
       "\n",
       "    .dataframe tbody tr th {\n",
       "        vertical-align: top;\n",
       "    }\n",
       "\n",
       "    .dataframe thead th {\n",
       "        text-align: right;\n",
       "    }\n",
       "</style>\n",
       "<table border=\"1\" class=\"dataframe\">\n",
       "  <thead>\n",
       "    <tr style=\"text-align: right;\">\n",
       "      <th></th>\n",
       "      <th>IBM</th>\n",
       "      <th>INTEL</th>\n",
       "      <th>MSFT</th>\n",
       "    </tr>\n",
       "    <tr>\n",
       "      <th>Date</th>\n",
       "      <th></th>\n",
       "      <th></th>\n",
       "      <th></th>\n",
       "    </tr>\n",
       "  </thead>\n",
       "  <tbody>\n",
       "    <tr>\n",
       "      <th>2021-10-13</th>\n",
       "      <td>134.569794</td>\n",
       "      <td>52.259998</td>\n",
       "      <td>296.309998</td>\n",
       "    </tr>\n",
       "    <tr>\n",
       "      <th>2021-10-14</th>\n",
       "      <td>137.084137</td>\n",
       "      <td>53.900002</td>\n",
       "      <td>302.750000</td>\n",
       "    </tr>\n",
       "    <tr>\n",
       "      <th>2021-10-15</th>\n",
       "      <td>138.250473</td>\n",
       "      <td>54.459999</td>\n",
       "      <td>304.209991</td>\n",
       "    </tr>\n",
       "    <tr>\n",
       "      <th>2021-10-18</th>\n",
       "      <td>136.061188</td>\n",
       "      <td>54.470001</td>\n",
       "      <td>307.290009</td>\n",
       "    </tr>\n",
       "    <tr>\n",
       "      <th>2021-10-19</th>\n",
       "      <td>135.736145</td>\n",
       "      <td>55.209999</td>\n",
       "      <td>308.230011</td>\n",
       "    </tr>\n",
       "  </tbody>\n",
       "</table>\n",
       "</div>"
      ],
      "text/plain": [
       "                   IBM      INTEL        MSFT\n",
       "Date                                         \n",
       "2021-10-13  134.569794  52.259998  296.309998\n",
       "2021-10-14  137.084137  53.900002  302.750000\n",
       "2021-10-15  138.250473  54.459999  304.209991\n",
       "2021-10-18  136.061188  54.470001  307.290009\n",
       "2021-10-19  135.736145  55.209999  308.230011"
      ]
     },
     "execution_count": 7,
     "metadata": {},
     "output_type": "execute_result"
    }
   ],
   "source": [
    "stocks.head()"
   ]
  },
  {
   "cell_type": "code",
   "execution_count": 8,
   "metadata": {},
   "outputs": [
    {
     "data": {
      "text/html": [
       "<div>\n",
       "<style scoped>\n",
       "    .dataframe tbody tr th:only-of-type {\n",
       "        vertical-align: middle;\n",
       "    }\n",
       "\n",
       "    .dataframe tbody tr th {\n",
       "        vertical-align: top;\n",
       "    }\n",
       "\n",
       "    .dataframe thead th {\n",
       "        text-align: right;\n",
       "    }\n",
       "</style>\n",
       "<table border=\"1\" class=\"dataframe\">\n",
       "  <thead>\n",
       "    <tr style=\"text-align: right;\">\n",
       "      <th></th>\n",
       "      <th>IBM</th>\n",
       "      <th>INTEL</th>\n",
       "      <th>MSFT</th>\n",
       "    </tr>\n",
       "    <tr>\n",
       "      <th>Date</th>\n",
       "      <th></th>\n",
       "      <th></th>\n",
       "      <th></th>\n",
       "    </tr>\n",
       "  </thead>\n",
       "  <tbody>\n",
       "    <tr>\n",
       "      <th>2021-10-13</th>\n",
       "      <td>-0.018512</td>\n",
       "      <td>-0.030899</td>\n",
       "      <td>-0.021501</td>\n",
       "    </tr>\n",
       "    <tr>\n",
       "      <th>2021-10-14</th>\n",
       "      <td>-0.008472</td>\n",
       "      <td>-0.010336</td>\n",
       "      <td>-0.004811</td>\n",
       "    </tr>\n",
       "    <tr>\n",
       "      <th>2021-10-15</th>\n",
       "      <td>0.015962</td>\n",
       "      <td>-0.000184</td>\n",
       "      <td>-0.010074</td>\n",
       "    </tr>\n",
       "    <tr>\n",
       "      <th>2021-10-18</th>\n",
       "      <td>0.002392</td>\n",
       "      <td>-0.013494</td>\n",
       "      <td>-0.003054</td>\n",
       "    </tr>\n",
       "    <tr>\n",
       "      <th>2021-10-19</th>\n",
       "      <td>0.000564</td>\n",
       "      <td>-0.002894</td>\n",
       "      <td>0.002664</td>\n",
       "    </tr>\n",
       "  </tbody>\n",
       "</table>\n",
       "</div>"
      ],
      "text/plain": [
       "                 IBM     INTEL      MSFT\n",
       "Date                                    \n",
       "2021-10-13 -0.018512 -0.030899 -0.021501\n",
       "2021-10-14 -0.008472 -0.010336 -0.004811\n",
       "2021-10-15  0.015962 -0.000184 -0.010074\n",
       "2021-10-18  0.002392 -0.013494 -0.003054\n",
       "2021-10-19  0.000564 -0.002894  0.002664"
      ]
     },
     "execution_count": 8,
     "metadata": {},
     "output_type": "execute_result"
    }
   ],
   "source": [
    "stocks_rendimientos = (np.log(stocks)-np.log(stocks.shift(-1))).dropna()\n",
    "stocks_rendimientos.head()"
   ]
  },
  {
   "cell_type": "code",
   "execution_count": 9,
   "metadata": {},
   "outputs": [
    {
     "data": {
      "text/plain": [
       "IBM      0.000549\n",
       "INTEL    0.002862\n",
       "MSFT     0.001089\n",
       "dtype: float64"
      ]
     },
     "execution_count": 9,
     "metadata": {},
     "output_type": "execute_result"
    }
   ],
   "source": [
    "stocks_rendimientos_prom = stocks_rendimientos.mean()\n",
    "stocks_rendimientos_prom"
   ]
  },
  {
   "cell_type": "code",
   "execution_count": 10,
   "metadata": {},
   "outputs": [
    {
     "data": {
      "text/plain": [
       "array([0.07975157, 0.6718879 , 0.56292855])"
      ]
     },
     "execution_count": 10,
     "metadata": {},
     "output_type": "execute_result"
    }
   ],
   "source": [
    "pesos = np.random.random(len(stocks_rendimientos.columns))\n",
    "pesos"
   ]
  },
  {
   "cell_type": "code",
   "execution_count": 11,
   "metadata": {},
   "outputs": [
    {
     "data": {
      "text/plain": [
       "array([0.06066751, 0.51110927, 0.42822322])"
      ]
     },
     "execution_count": 11,
     "metadata": {},
     "output_type": "execute_result"
    }
   ],
   "source": [
    "pesos = pesos/np.sum(pesos)\n",
    "pesos"
   ]
  },
  {
   "cell_type": "code",
   "execution_count": 12,
   "metadata": {},
   "outputs": [
    {
     "data": {
      "text/html": [
       "<div>\n",
       "<style scoped>\n",
       "    .dataframe tbody tr th:only-of-type {\n",
       "        vertical-align: middle;\n",
       "    }\n",
       "\n",
       "    .dataframe tbody tr th {\n",
       "        vertical-align: top;\n",
       "    }\n",
       "\n",
       "    .dataframe thead th {\n",
       "        text-align: right;\n",
       "    }\n",
       "</style>\n",
       "<table border=\"1\" class=\"dataframe\">\n",
       "  <thead>\n",
       "    <tr style=\"text-align: right;\">\n",
       "      <th></th>\n",
       "      <th>IBM</th>\n",
       "      <th>INTEL</th>\n",
       "      <th>MSFT</th>\n",
       "    </tr>\n",
       "  </thead>\n",
       "  <tbody>\n",
       "    <tr>\n",
       "      <th>IBM</th>\n",
       "      <td>0.000243</td>\n",
       "      <td>0.000126</td>\n",
       "      <td>0.000092</td>\n",
       "    </tr>\n",
       "    <tr>\n",
       "      <th>INTEL</th>\n",
       "      <td>0.000126</td>\n",
       "      <td>0.000532</td>\n",
       "      <td>0.000272</td>\n",
       "    </tr>\n",
       "    <tr>\n",
       "      <th>MSFT</th>\n",
       "      <td>0.000092</td>\n",
       "      <td>0.000272</td>\n",
       "      <td>0.000401</td>\n",
       "    </tr>\n",
       "  </tbody>\n",
       "</table>\n",
       "</div>"
      ],
      "text/plain": [
       "            IBM     INTEL      MSFT\n",
       "IBM    0.000243  0.000126  0.000092\n",
       "INTEL  0.000126  0.000532  0.000272\n",
       "MSFT   0.000092  0.000272  0.000401"
      ]
     },
     "execution_count": 12,
     "metadata": {},
     "output_type": "execute_result"
    }
   ],
   "source": [
    "cov_var = stocks_rendimientos.cov()\n",
    "cov_var"
   ]
  },
  {
   "cell_type": "code",
   "execution_count": 13,
   "metadata": {},
   "outputs": [
    {
     "data": {
      "text/plain": [
       "0.018569000903335988"
      ]
     },
     "execution_count": 13,
     "metadata": {},
     "output_type": "execute_result"
    }
   ],
   "source": [
    "desv_portafolio = np.sqrt(pesos.T.dot(cov_var).dot(pesos))\n",
    "desv_portafolio"
   ]
  },
  {
   "cell_type": "code",
   "execution_count": 14,
   "metadata": {},
   "outputs": [],
   "source": [
    "inversion_inicial = 1e6\n",
    "nivel_conf = 0.95"
   ]
  },
  {
   "cell_type": "markdown",
   "metadata": {},
   "source": [
    "**PPF Percent point function:**, La probabilidad de un evento igual o menor que un valor dado se define mediante la función de distribución acumulativa, o CDF para abreviar. El inverso de la CDF se llama función de punto porcentual y dará el resultado discreto que es menor o igual a una probabilidad."
   ]
  },
  {
   "cell_type": "code",
   "execution_count": 15,
   "metadata": {},
   "outputs": [],
   "source": [
    "def VaR_parametric(inversion, confianza):\n",
    "    \n",
    "    alpha = norm.ppf(1 - confianza, stocks_rendimientos_prom, desv_portafolio)\n",
    "        \n",
    "    for i, j in zip(stocks.columns, range(len(stocks.columns))):\n",
    "        VaR_param = (inversion - inversion * (1 + alpha))[j]\n",
    "        \n",
    "        print(\"El VaR Parametrico para {} es {:,.2f} \".format(i, VaR_param))\n",
    "    \n",
    "    VaR_param = (inversion - inversion * (1 + alpha))\n",
    "    \n",
    "    print('--' * 50)\n",
    "    \n",
    "    return VaR_param"
   ]
  },
  {
   "cell_type": "code",
   "execution_count": 16,
   "metadata": {},
   "outputs": [
    {
     "name": "stdout",
     "output_type": "stream",
     "text": [
      "El VaR Parametrico para IBM es 29,994.53 \n",
      "El VaR Parametrico para INTEL es 27,681.70 \n",
      "El VaR Parametrico para MSFT es 29,453.80 \n",
      "----------------------------------------------------------------------------------------------------\n"
     ]
    },
    {
     "data": {
      "text/plain": [
       "array([29994.53287911, 27681.70170179, 29453.80224167])"
      ]
     },
     "execution_count": 16,
     "metadata": {},
     "output_type": "execute_result"
    }
   ],
   "source": [
    "VaR_param = VaR_parametric(inversion_inicial, nivel_conf)\n",
    "VaR_param"
   ]
  },
  {
   "cell_type": "markdown",
   "metadata": {},
   "source": [
    "El VaR puede cambiar dependiendo el horizonte de tiempo, dado que el mantener activos por un largo periodo de tiempo hace que el inversor sea más propenso a un evento de riesgo. El VaR incrementa con relación al monto y el tiempo que mantiene el activo a un ritmo $\\sqrt{t}$."
   ]
  },
  {
   "cell_type": "code",
   "execution_count": 17,
   "metadata": {},
   "outputs": [
    {
     "data": {
      "image/png": "[encoded data removed]",
      "text/plain": [
       "<Figure size 432x288 with 1 Axes>"
      ]
     },
     "metadata": {
      "needs_background": "light"
     },
     "output_type": "display_data"
    }
   ],
   "source": [
    "var_horizon = []\n",
    "\n",
    "time_horizon = 30\n",
    "\n",
    "for j in range(len(stocks_rendimientos.columns)):\n",
    "    \n",
    "    for i in range(1, time_horizon + 1):\n",
    "        \n",
    "        var_horizon.append(VaR_param[j] * np.sqrt(i))\n",
    "        \n",
    "plt.plot(var_horizon[:time_horizon], \"o\", c='blue', marker='*', label='IBM')\n",
    "\n",
    "plt.plot(var_horizon[time_horizon:time_horizon + 30], \"o\", c='green', marker='o', label='MSFT')\n",
    "\n",
    "plt.plot(var_horizon[time_horizon + 30:time_horizon + 60], \"o\", c='red', marker='v', label='INTC')\n",
    "\n",
    "plt.xlabel(\"Días\")\n",
    "plt.ylabel(\"USD\")\n",
    "plt.title(\"VaR sobre periodo de 30 días\")\n",
    "plt.legend()\n",
    "plt.show()"
   ]
  },
  {
   "cell_type": "markdown",
   "metadata": {},
   "source": [
    "Bueno, aunque la normalidad suene atractiva, puede que no sea la mejor manera de estimar el VaR, especialmente en el caso de que los rendimientos de los activos no tengan una distribución normal. Afortunadamente, hay otro método que no tiene supuesto de normalidad, el modelo VaR de simulación histórica."
   ]
  },
  {
   "cell_type": "markdown",
   "metadata": {},
   "source": [
    "# Metodo Simulación Histórica"
   ]
  },
  {
   "cell_type": "code",
   "execution_count": 18,
   "metadata": {},
   "outputs": [],
   "source": [
    "def VaR_historico(inversion, confianza):\n",
    "    Hist_percentile95 = []\n",
    "    \n",
    "    for i, j in zip(stocks_rendimientos.columns, range(len(stocks_rendimientos.columns))):\n",
    "        \n",
    "        Hist_percentile95.append(np.percentile(stocks_rendimientos.loc[:, i], 1-confianza))\n",
    "        \n",
    "        print(\"Con un 95% de confianza el rendimiento de las acciones de {} no será menor a {:.4f}\".format(i, Hist_percentile95[j]))\n",
    "        \n",
    "        VaR_historico = (inversion - inversion * (1 + Hist_percentile95[j]))\n",
    "        \n",
    "        print(\"Con un 95% de confianza las acciones de {} no presentarán perdidas mayores a {:,.2f} en un día\".format(i, VaR_historico))\n",
    "        \n",
    "        print('--' * 50)"
   ]
  },
  {
   "cell_type": "code",
   "execution_count": 19,
   "metadata": {},
   "outputs": [
    {
     "name": "stdout",
     "output_type": "stream",
     "text": [
      "Con un 95% de confianza el rendimiento de las acciones de IBM no será menor a -0.0669\n",
      "Con un 95% de confianza las acciones de IBM no presentarán perdidas mayores a 66,885.91 en un día\n",
      "----------------------------------------------------------------------------------------------------\n",
      "Con un 95% de confianza el rendimiento de las acciones de INTEL no será menor a -0.0644\n",
      "Con un 95% de confianza las acciones de INTEL no presentarán perdidas mayores a 64,390.03 en un día\n",
      "----------------------------------------------------------------------------------------------------\n",
      "Con un 95% de confianza el rendimiento de las acciones de MSFT no será menor a -0.0628\n",
      "Con un 95% de confianza las acciones de MSFT no presentarán perdidas mayores a 62,844.61 en un día\n",
      "----------------------------------------------------------------------------------------------------\n"
     ]
    }
   ],
   "source": [
    "VaR_historico(inversion_inicial, nivel_conf)"
   ]
  },
  {
   "cell_type": "markdown",
   "metadata": {},
   "source": [
    "# Metodo Monte Carlo"
   ]
  },
  {
   "cell_type": "code",
   "execution_count": 20,
   "metadata": {},
   "outputs": [],
   "source": [
    "sim_data = pd.DataFrame([])\n",
    "num_reps = 1000\n",
    "\n",
    "for i in range(len(stocks.columns)):\n",
    "    mean = stocks_rendimientos[stocks.columns[i]].mean()\n",
    "    std = stocks_rendimientos[stocks.columns[i]].std()\n",
    "    temp = pd.DataFrame(np.random.normal(mean, std, num_reps))\n",
    "    temp.columns = [i]\n",
    "    sim_data = pd.concat([sim_data, temp], axis=1)"
   ]
  },
  {
   "cell_type": "code",
   "execution_count": 21,
   "metadata": {},
   "outputs": [],
   "source": [
    "for columns in list(range(len(sim_data.columns))):\n",
    "    sim_data.rename({sim_data.columns[columns]:stocks.columns[columns]},inplace=True, axis='columns')"
   ]
  },
  {
   "cell_type": "code",
   "execution_count": 22,
   "metadata": {},
   "outputs": [
    {
     "data": {
      "text/html": [
       "<div>\n",
       "<style scoped>\n",
       "    .dataframe tbody tr th:only-of-type {\n",
       "        vertical-align: middle;\n",
       "    }\n",
       "\n",
       "    .dataframe tbody tr th {\n",
       "        vertical-align: top;\n",
       "    }\n",
       "\n",
       "    .dataframe thead th {\n",
       "        text-align: right;\n",
       "    }\n",
       "</style>\n",
       "<table border=\"1\" class=\"dataframe\">\n",
       "  <thead>\n",
       "    <tr style=\"text-align: right;\">\n",
       "      <th></th>\n",
       "      <th>IBM</th>\n",
       "      <th>INTEL</th>\n",
       "      <th>MSFT</th>\n",
       "    </tr>\n",
       "  </thead>\n",
       "  <tbody>\n",
       "    <tr>\n",
       "      <th>0</th>\n",
       "      <td>0.006172</td>\n",
       "      <td>0.047578</td>\n",
       "      <td>-0.042481</td>\n",
       "    </tr>\n",
       "    <tr>\n",
       "      <th>1</th>\n",
       "      <td>-0.004679</td>\n",
       "      <td>-0.014109</td>\n",
       "      <td>-0.005782</td>\n",
       "    </tr>\n",
       "    <tr>\n",
       "      <th>2</th>\n",
       "      <td>0.021502</td>\n",
       "      <td>0.022139</td>\n",
       "      <td>0.007872</td>\n",
       "    </tr>\n",
       "    <tr>\n",
       "      <th>3</th>\n",
       "      <td>-0.021228</td>\n",
       "      <td>-0.024801</td>\n",
       "      <td>-0.019892</td>\n",
       "    </tr>\n",
       "    <tr>\n",
       "      <th>4</th>\n",
       "      <td>0.005203</td>\n",
       "      <td>0.012156</td>\n",
       "      <td>-0.022935</td>\n",
       "    </tr>\n",
       "  </tbody>\n",
       "</table>\n",
       "</div>"
      ],
      "text/plain": [
       "        IBM     INTEL      MSFT\n",
       "0  0.006172  0.047578 -0.042481\n",
       "1 -0.004679 -0.014109 -0.005782\n",
       "2  0.021502  0.022139  0.007872\n",
       "3 -0.021228 -0.024801 -0.019892\n",
       "4  0.005203  0.012156 -0.022935"
      ]
     },
     "execution_count": 22,
     "metadata": {},
     "output_type": "execute_result"
    }
   ],
   "source": [
    "sim_data.head()"
   ]
  },
  {
   "cell_type": "code",
   "execution_count": 23,
   "metadata": {},
   "outputs": [],
   "source": [
    "def MC_VaR(inversion, confianza):\n",
    "    \n",
    "    MC_percentile95 = []\n",
    "    \n",
    "    for i, j in zip(sim_data.columns, range(len(sim_data.columns))):\n",
    "        \n",
    "        MC_percentile95.append(np.percentile(sim_data.loc[:, i], 1-confianza))\n",
    "        \n",
    "        print(\"Con un 95% de confianza el rendimiento de las acciones de {} no será menor a {:.4f}\".format(i, MC_percentile95[j]))\n",
    "        \n",
    "        VaR_MC = (inversion - inversion * (1 + MC_percentile95[j]))\n",
    "        \n",
    "        print(\"Con un 95% de confianza las acciones de {} no presentarán perdidas mayores a {:,.2f} en un día\".format(i, VaR_MC))\n",
    "        \n",
    "        print('--' * 50)"
   ]
  },
  {
   "cell_type": "code",
   "execution_count": 24,
   "metadata": {},
   "outputs": [
    {
     "name": "stdout",
     "output_type": "stream",
     "text": [
      "Con un 95% de confianza el rendimiento de las acciones de IBM no será menor a -0.0490\n",
      "Con un 95% de confianza las acciones de IBM no presentarán perdidas mayores a 48,967.25 en un día\n",
      "----------------------------------------------------------------------------------------------------\n",
      "Con un 95% de confianza el rendimiento de las acciones de INTEL no será menor a -0.0653\n",
      "Con un 95% de confianza las acciones de INTEL no presentarán perdidas mayores a 65,336.71 en un día\n",
      "----------------------------------------------------------------------------------------------------\n",
      "Con un 95% de confianza el rendimiento de las acciones de MSFT no será menor a -0.0641\n",
      "Con un 95% de confianza las acciones de MSFT no presentarán perdidas mayores a 64,148.45 en un día\n",
      "----------------------------------------------------------------------------------------------------\n"
     ]
    }
   ],
   "source": [
    "MC_VaR(inversion_inicial, nivel_conf)"
   ]
  },
  {
   "cell_type": "markdown",
   "metadata": {},
   "source": [
    "# Fin"
   ]
  }
 ],
 "metadata": {
  "kernelspec": {
   "display_name": "Python 3",
   "language": "python",
   "name": "python3"
  },
  "language_info": {
   "codemirror_mode": {
    "name": "ipython",
    "version": 3
   },
   "file_extension": ".py",
   "mimetype": "text/x-python",
   "name": "python",
   "nbconvert_exporter": "python",
   "pygments_lexer": "ipython3",
   "version": "3.8.5"
  }
 },
 "nbformat": 4,
 "nbformat_minor": 5
}
